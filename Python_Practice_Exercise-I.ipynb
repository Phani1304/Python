{
  "cells": [
    {
      "metadata": {
        "collapsed": true
      },
      "cell_type": "markdown",
      "source": "1). <b> Write a python program to print the following string in a specific format </b>\n\nSample String: \"Twinkle,twinkle little star, How I wonder what you are!Up above the world so high. Like a diamond in the sky.Twinkle,twinkle,little star,How I wonder what you are\"\n\nOutput:\n\nTwinkle,twinkle,little star,\n    How I wonder what you are!\n        Up above the world so high,\n        Like a diamond in the sky.\nTwinkle,twinkle,little star,\n    How I wonder what you are"
    },
    {
      "metadata": {
        "trusted": true
      },
      "cell_type": "code",
      "source": "print(\"Twinkle,twinkle little star,\\n\\tHow I wonder what you are!\\n\\t\\tUp above the world so high,\\n\\t\\tLike a diamond in the sky.\\nTwinkle,twinkle,little star,\\n\\tHow I wonder what you are\")\n",
      "execution_count": 2,
      "outputs": [
        {
          "output_type": "stream",
          "text": "Twinkle,twinkle little star,\n\tHow I wonder what you are!\n\t\tUp above the world so high,\n\t\tLike a diamond in the sky.\nTwinkle,twinkle,little star,\n\tHow I wonder what you are\n",
          "name": "stdout"
        }
      ]
    },
    {
      "metadata": {},
      "cell_type": "markdown",
      "source": "2). <b> Write a python program to get the Python version </b>"
    },
    {
      "metadata": {
        "trusted": true
      },
      "cell_type": "code",
      "source": "import sys\nprint(\"Python version\")\nprint(sys.version)\nprint(\"Version info\")\nprint(sys.version_info)",
      "execution_count": 3,
      "outputs": [
        {
          "output_type": "stream",
          "text": "Python version\n3.6.6 |Anaconda, Inc.| (default, Jun 28 2018, 17:14:51) \n[GCC 7.2.0]\nVersion info\nsys.version_info(major=3, minor=6, micro=6, releaselevel='final', serial=0)\n",
          "name": "stdout"
        }
      ]
    },
    {
      "metadata": {},
      "cell_type": "markdown",
      "source": "3). <b> Write a Python program to display the current date and time <b>"
    },
    {
      "metadata": {
        "trusted": true
      },
      "cell_type": "code",
      "source": "import datetime\nnow = datetime.datetime.now()\nprint(\"Current date and time:\")\nprint(now.strftime(\"%Y-%m-%d %H:%M:%S\"))",
      "execution_count": 4,
      "outputs": [
        {
          "output_type": "stream",
          "text": "Current date and time:\n2020-02-06 13:06:02\n",
          "name": "stdout"
        }
      ]
    },
    {
      "metadata": {},
      "cell_type": "markdown",
      "source": "4). <b> Write a python program which accepts the radius of a circle from the user and compute the area </b>"
    },
    {
      "metadata": {
        "trusted": true
      },
      "cell_type": "code",
      "source": "from math import pi\nrad = float(input(\"Input the radius of the circle:\"))\nprint(\"The area of the circle with radius\" +str(rad)+ \"is:\" +str(pi*rad**2))",
      "execution_count": 5,
      "outputs": [
        {
          "output_type": "stream",
          "name": "stdout",
          "text": "Input the radius of the circle:34\nThe area of the circle with radius34.0is:3631.681107549801\n"
        }
      ]
    },
    {
      "metadata": {},
      "cell_type": "markdown",
      "source": "5). <b> Write a Python program which accepts the user's first and last name and print them in reverse order with a space between them </b>"
    },
    {
      "metadata": {
        "trusted": true
      },
      "cell_type": "code",
      "source": "first_name = str(input(\"Please enter the first name:\"))\nlast_name = str(input(\"Please enter the last name:\"))\nprint(last_name +\" \" +first_name)",
      "execution_count": 6,
      "outputs": [
        {
          "output_type": "stream",
          "name": "stdout",
          "text": "Please enter the first name:Tendulkar\nPlease enter the last name:Sachin\nSachin Tendulkar\n"
        }
      ]
    },
    {
      "metadata": {},
      "cell_type": "markdown",
      "source": "6). <b> Write a Python program which accepts a sequence of comma-seperated numbers from user and generate a list of and a tuple with those numbers </b>"
    },
    {
      "metadata": {
        "trusted": true
      },
      "cell_type": "code",
      "source": "input_numbers = input(\"Input some comma seperated numbers:\")\nlist = input_numbers.split(\",\")\ntuple = tuple(list)\nprint(\"List:\", list)\nprint(\"Tuple:\", tuple)",
      "execution_count": 7,
      "outputs": [
        {
          "output_type": "stream",
          "name": "stdout",
          "text": "Input some comma seperated numbers:1,2,3,5\nList: ['1', '2', '3', '5']\nTuple: ('1', '2', '3', '5')\n"
        }
      ]
    },
    {
      "metadata": {},
      "cell_type": "markdown",
      "source": "7). <b> Write a Python program to accept a filename from the user and print the extension of that </b>"
    },
    {
      "metadata": {
        "trusted": true
      },
      "cell_type": "code",
      "source": "input_filename = input(\"Please enter the filename:\")\nfile_extn = input_filename.split(\".\")\nprint(\"The extension of the file is: \" + repr(file_extn[-1]))",
      "execution_count": 8,
      "outputs": [
        {
          "output_type": "stream",
          "name": "stdout",
          "text": "Please enter the filename:abc.txt\nThe extension of the file is: 'txt'\n"
        }
      ]
    },
    {
      "metadata": {},
      "cell_type": "markdown",
      "source": "8).<b> Write a Python program to display the first and last colors from the following list: </b>\n- color_list = [\"Red\", \"Green\", \"White\", \"Black\"]"
    },
    {
      "metadata": {
        "trusted": true
      },
      "cell_type": "code",
      "source": "color_list = [\"Red\", \"Green\", \"White\", \"Black\"]\ncolor_list[::3]\n#print(\"%s %s\"%(color_list[0], color_list[-1]))",
      "execution_count": 10,
      "outputs": [
        {
          "output_type": "execute_result",
          "execution_count": 10,
          "data": {
            "text/plain": "['Red', 'Black']"
          },
          "metadata": {}
        }
      ]
    },
    {
      "metadata": {},
      "cell_type": "markdown",
      "source": "9). <b> Write a python program to display the examination shcedule. (extract the date from exam_st_date): exam_st_date = (11,12,2019) </b>\n\n- sample output = 11/12/2019"
    },
    {
      "metadata": {
        "trusted": true
      },
      "cell_type": "code",
      "source": "exam_st_date = (11,12,2019)\nprint(\"The examination will commence from: %i /%i /%i\"%exam_st_date)",
      "execution_count": 11,
      "outputs": [
        {
          "output_type": "stream",
          "text": "The examination will commence from: 11 /12 /2019\n",
          "name": "stdout"
        }
      ]
    },
    {
      "metadata": {},
      "cell_type": "markdown",
      "source": "10).<b> Write a Python program that accepts an integer (n) and computes the value of n+nn+nnn. </b>"
    },
    {
      "metadata": {
        "trusted": true
      },
      "cell_type": "code",
      "source": "a = int(input(\"Please enter the desired number:\"))\nn1 = int(\"%s\" %a)\nn2 = int(\"%s%s\"% (a,a))\nn3 = int(\"%s%s%s\"% (a,a,a))\nprint(n1+n2+n3)",
      "execution_count": 12,
      "outputs": [
        {
          "output_type": "stream",
          "name": "stdout",
          "text": "Please enter the desired number:4\n492\n"
        }
      ]
    },
    {
      "metadata": {},
      "cell_type": "markdown",
      "source": "11).<b> Write a Python program to print the documents (syntax, description, etc.) of Python built-in function(s) </b>"
    },
    {
      "metadata": {
        "trusted": true
      },
      "cell_type": "code",
      "source": "'''\nIn-built function: abs()\nprint(abs.__doc__)\n'''",
      "execution_count": 13,
      "outputs": [
        {
          "output_type": "execute_result",
          "execution_count": 13,
          "data": {
            "text/plain": "'\\nIn-built function: abs()\\nprint(abs.__doc__)\\n'"
          },
          "metadata": {}
        }
      ]
    },
    {
      "metadata": {},
      "cell_type": "markdown",
      "source": "12).<b>  Write a Python program to print the calendar of a given month and year. </b>"
    },
    {
      "metadata": {
        "trusted": true
      },
      "cell_type": "code",
      "source": "import calendar\nYear = int(input(\"Enter the year:\"))\nMonth = int(input(\"Enter the Month:\"))\nprint(calendar.month(Year,Month))",
      "execution_count": 14,
      "outputs": [
        {
          "output_type": "stream",
          "name": "stdout",
          "text": "Enter the year:2020\nEnter the Month:02\n   February 2020\nMo Tu We Th Fr Sa Su\n                1  2\n 3  4  5  6  7  8  9\n10 11 12 13 14 15 16\n17 18 19 20 21 22 23\n24 25 26 27 28 29\n\n"
        }
      ]
    },
    {
      "metadata": {},
      "cell_type": "markdown",
      "source": "13). <b> Write a Python program to print the following 'here document' </b>:\n\nSample String:\n\na string that you \"don't\" have to escape\n\nThis\n\nis a ...... multi-line\n\nheredoc string ------>example"
    },
    {
      "metadata": {
        "trusted": true
      },
      "cell_type": "code",
      "source": "print(\"\"\"\n\na string that you \"don't\" have to escape\n\nThis\n\nis a ...... multi-line\n\nheredoc string ------>example\n\n\"\"\")",
      "execution_count": 15,
      "outputs": [
        {
          "output_type": "stream",
          "text": "\n\na string that you \"don't\" have to escape\n\nThis\n\nis a ...... multi-line\n\nheredoc string ------>example\n\n\n",
          "name": "stdout"
        }
      ]
    },
    {
      "metadata": {},
      "cell_type": "markdown",
      "source": "14). <b> Write a Python program to calculate number of days between two dates. </b>\n        \n        \n  - sample dates :(2014,7,2), (2014,7,11)"
    },
    {
      "metadata": {
        "trusted": true
      },
      "cell_type": "code",
      "source": "from datetime import date\nf_date = date(2014,7,2)\nl_date = date(2014,7,11)\nNo_of_days = l_date - f_date\nprint(No_of_days)",
      "execution_count": 16,
      "outputs": [
        {
          "output_type": "stream",
          "text": "9 days, 0:00:00\n",
          "name": "stdout"
        }
      ]
    },
    {
      "metadata": {},
      "cell_type": "markdown",
      "source": "15). <b> Write a Python program to get the volume of a sphere with radius 6.</b>"
    },
    {
      "metadata": {
        "trusted": true
      },
      "cell_type": "code",
      "source": "Pi = 3.14\nrad = 6\nVol = (4/3)*Pi*(rad**3)\nprint(round(Vol,2))",
      "execution_count": 18,
      "outputs": [
        {
          "output_type": "stream",
          "text": "904.32\n",
          "name": "stdout"
        }
      ]
    },
    {
      "metadata": {},
      "cell_type": "markdown",
      "source": "16). <b> Write a Python program to get the difference between a given number and 17, if the number is greater than 17 return double the absolute difference </b>"
    },
    {
      "metadata": {
        "trusted": true
      },
      "cell_type": "code",
      "source": "def difference(n):\n    if n <= 17:\n        return 17-n\n    else:\n        return (n-17)*2\n    \nprint(difference(32))",
      "execution_count": 19,
      "outputs": [
        {
          "output_type": "stream",
          "text": "30\n",
          "name": "stdout"
        }
      ]
    },
    {
      "metadata": {},
      "cell_type": "markdown",
      "source": "17). <b> Write a python program to test whether a number is 100 of 1000 or 2000 </b>"
    },
    {
      "metadata": {
        "trusted": true
      },
      "cell_type": "code",
      "source": "def near_thousand(n):\n    return ((abs(1000-n) <= 100) or (abs(2000-n) <=100))\nprint(near_thousand(1000))",
      "execution_count": 20,
      "outputs": [
        {
          "output_type": "stream",
          "text": "True\n",
          "name": "stdout"
        }
      ]
    },
    {
      "metadata": {},
      "cell_type": "markdown",
      "source": "18). <b> Write a Python program to calculate the sum of three given numbers, if the values are equal then return three times of their sum </b>"
    },
    {
      "metadata": {
        "trusted": true
      },
      "cell_type": "code",
      "source": "def three_numbers(a,b,c):\n    sum = a+b+c\n    \n    if a == b == c:\n        sum*= 3\n    return sum\nprint(three_numbers(1,2,3))\nprint(three_numbers(2,2,2))",
      "execution_count": 21,
      "outputs": [
        {
          "output_type": "stream",
          "text": "6\n18\n",
          "name": "stdout"
        }
      ]
    },
    {
      "metadata": {},
      "cell_type": "markdown",
      "source": "19). <b> Write a Python program to get a new string from a given string where \"Is\" has been added to the fornt. If the given string already begins with \"Is\" then return the string unchanged </b>"
    },
    {
      "metadata": {
        "trusted": true
      },
      "cell_type": "code",
      "source": "def new_string(str):\n    if len(str) >=2 and str[:2] == \"Is\":\n        return str\n    return \"Is\" + str\n\nprint(new_string(\"Array\"))\nprint(new_string(\"IsEmpty\"))",
      "execution_count": 22,
      "outputs": [
        {
          "output_type": "stream",
          "text": "IsArray\nIsEmpty\n",
          "name": "stdout"
        }
      ]
    },
    {
      "metadata": {},
      "cell_type": "markdown",
      "source": "20). <b> Write a Python program to get a string which is n (non-negative integer) copies of a given string </b>"
    },
    {
      "metadata": {
        "trusted": true
      },
      "cell_type": "code",
      "source": "def larger_string(str,n):\n    result = \"\"\n    for i in range(n):\n        result+= str\n    return result\n\nprint(larger_string('abc',2))\nprint(larger_string('.py',3))",
      "execution_count": 23,
      "outputs": [
        {
          "output_type": "stream",
          "text": "abcabc\n.py.py.py\n",
          "name": "stdout"
        }
      ]
    },
    {
      "metadata": {},
      "cell_type": "markdown",
      "source": "21). <b> Write a Python program to find whether a given number (Accept from the user) is even or odd, print out an appropriate mesage to that user </b>"
    },
    {
      "metadata": {
        "trusted": true
      },
      "cell_type": "code",
      "source": "Input = int(input(\"Enter the desired number: \"))\nif Input%2 == 0:\n    print(\"The entered number is Even\")\nelse:\n    print(\"The entered number is Odd\")",
      "execution_count": 24,
      "outputs": [
        {
          "output_type": "stream",
          "name": "stdout",
          "text": "Enter the desired number: 35\nThe entered number is Odd\n"
        }
      ]
    },
    {
      "metadata": {},
      "cell_type": "markdown",
      "source": "22). <b> Write a Python program to count the number 4 in a given list </b>"
    },
    {
      "metadata": {
        "trusted": true
      },
      "cell_type": "code",
      "source": "def count(nums):\n    counter = 0\n    for i in nums:\n        if i ==4:\n            counter+=1\n    return counter\n\nprint(count([1,4,6,4,7,4]))",
      "execution_count": 25,
      "outputs": [
        {
          "output_type": "stream",
          "text": "3\n",
          "name": "stdout"
        }
      ]
    },
    {
      "metadata": {},
      "cell_type": "markdown",
      "source": "23). <b> Write a Python program to get the n copies of the first 2 characters of a given string. Return the n copies of the whole string if less than 2 </b>"
    },
    {
      "metadata": {
        "trusted": true
      },
      "cell_type": "code",
      "source": "def sub_string(str,n):\n    flen = 2\n    if flen > len(str):\n        flen = len(str)\n    substr = str[:flen]\n    \n    result = \"\"\n    for i in range(n):\n        result+=substr\n    return result\n\nprint(sub_string('abcdef',2))",
      "execution_count": 26,
      "outputs": [
        {
          "output_type": "stream",
          "text": "abab\n",
          "name": "stdout"
        }
      ]
    },
    {
      "metadata": {},
      "cell_type": "markdown",
      "source": "24).<b> Write a Python program to test whether a passed letter is a vowel or not. </b>"
    },
    {
      "metadata": {
        "trusted": true
      },
      "cell_type": "code",
      "source": "def Isvowel(n):\n    vowels = 'aeiou'\n    return n in vowels\n\nprint(Isvowel('u'))\nprint(Isvowel('g'))",
      "execution_count": 27,
      "outputs": [
        {
          "output_type": "stream",
          "text": "True\nFalse\n",
          "name": "stdout"
        }
      ]
    },
    {
      "metadata": {},
      "cell_type": "markdown",
      "source": "25). <b> Write a Python program to check whether a specified value is contained in a group of values </b>"
    },
    {
      "metadata": {
        "trusted": true
      },
      "cell_type": "code",
      "source": "def Isgroup (grp_data, n):\n    for i in grp_data:\n        if n == i:\n            return True\n    return False\nprint(Isgroup([1,3,4,5,7,3],2))",
      "execution_count": 29,
      "outputs": [
        {
          "output_type": "stream",
          "text": "False\n",
          "name": "stdout"
        }
      ]
    }
  ],
  "metadata": {
    "kernelspec": {
      "name": "python36",
      "display_name": "Python 3.6",
      "language": "python"
    },
    "language_info": {
      "mimetype": "text/x-python",
      "nbconvert_exporter": "python",
      "name": "python",
      "pygments_lexer": "ipython3",
      "version": "3.6.6",
      "file_extension": ".py",
      "codemirror_mode": {
        "version": 3,
        "name": "ipython"
      }
    }
  },
  "nbformat": 4,
  "nbformat_minor": 2
}